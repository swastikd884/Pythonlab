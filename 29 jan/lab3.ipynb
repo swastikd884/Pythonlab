{
 "cells": [
  {
   "cell_type": "code",
   "execution_count": 2,
   "id": "da635762-046f-4bbb-bdff-d3b9eb6d575b",
   "metadata": {},
   "outputs": [
    {
     "name": "stdout",
     "output_type": "stream",
     "text": [
      "S\n",
      "a\n",
      "h\n",
      "a\n",
      "s\n",
      "r\n",
      "a\n"
     ]
    }
   ],
   "source": [
    "s=\"Sahasa\"\n",
    "for x in s :\n",
    "    print(x)"
   ]
  },
  {
   "cell_type": "code",
   "execution_count": 3,
   "id": "dd003db8-c6d6-43e8-b237-6eb4ac4c717d",
   "metadata": {},
   "outputs": [
    {
     "name": "stdout",
     "output_type": "stream",
     "text": [
      "Enter some String:  qwerty\n"
     ]
    },
    {
     "name": "stdout",
     "output_type": "stream",
     "text": [
      "The character present at  0 index is : q\n",
      "The character present at  1 index is : w\n",
      "The character present at  2 index is : e\n",
      "The character present at  3 index is : r\n",
      "The character present at  4 index is : t\n",
      "The character present at  5 index is : y\n"
     ]
    }
   ],
   "source": [
    "s=input(\"Enter some String: \")\n",
    "i=0\n",
    "for x in s :\n",
    "    print(\"The character present at \",i,\"index is :\",x)\n",
    "    i=i+1"
   ]
  },
  {
   "cell_type": "code",
   "execution_count": 4,
   "id": "0f59af5e-9150-489f-a332-d9378e63b2e8",
   "metadata": {},
   "outputs": [
    {
     "name": "stdout",
     "output_type": "stream",
     "text": [
      "Hello\n",
      "Hello\n",
      "Hello\n",
      "Hello\n",
      "Hello\n",
      "Hello\n",
      "Hello\n",
      "Hello\n",
      "Hello\n",
      "Hello\n"
     ]
    }
   ],
   "source": [
    "s = 'Hello'\n",
    "for i in range(1,11):\n",
    "    print(s)"
   ]
  },
  {
   "cell_type": "code",
   "execution_count": 5,
   "id": "5be6038e-afe2-49cc-87fb-9b3d38a941a4",
   "metadata": {},
   "outputs": [
    {
     "name": "stdout",
     "output_type": "stream",
     "text": [
      "Hello\n",
      "Hello\n",
      "Hello\n",
      "Hello\n",
      "Hello\n",
      "Hello\n",
      "Hello\n",
      "Hello\n",
      "Hello\n",
      "Hello\n"
     ]
    }
   ],
   "source": [
    "s = 'Hello'\n",
    "for i in range(10):\n",
    "    print(s)"
   ]
  },
  {
   "cell_type": "code",
   "execution_count": 6,
   "id": "08b4f70a-007e-4411-9164-0b20502ca65e",
   "metadata": {},
   "outputs": [
    {
     "name": "stdout",
     "output_type": "stream",
     "text": [
      "0\n",
      "1\n",
      "2\n",
      "3\n",
      "4\n",
      "5\n",
      "6\n",
      "7\n",
      "8\n",
      "9\n",
      "10\n"
     ]
    }
   ],
   "source": [
    "for i in range(0,11):\n",
    "    print(i)"
   ]
  },
  {
   "cell_type": "code",
   "execution_count": 8,
   "id": "f4afac1e-92de-464c-9160-1c90668ac4a8",
   "metadata": {},
   "outputs": [
    {
     "name": "stdout",
     "output_type": "stream",
     "text": [
      "1\n",
      "3\n",
      "5\n",
      "7\n",
      "9\n",
      "11\n",
      "13\n",
      "15\n",
      "17\n",
      "19\n"
     ]
    }
   ],
   "source": [
    "for i in range(21):\n",
    "    if(i%2!=0):\n",
    "        print(i)"
   ]
  },
  {
   "cell_type": "code",
   "execution_count": 9,
   "id": "e32e63ea-c4aa-43f8-82d6-b4a1b86bfcda",
   "metadata": {},
   "outputs": [
    {
     "name": "stdout",
     "output_type": "stream",
     "text": [
      "10\n",
      "9\n",
      "8\n",
      "7\n",
      "6\n",
      "5\n",
      "4\n",
      "3\n",
      "2\n",
      "1\n"
     ]
    }
   ],
   "source": [
    "for i in range(10,0,-1):\n",
    "    print(i)"
   ]
  },
  {
   "cell_type": "code",
   "execution_count": 11,
   "id": "b0b89a8b-ee4d-47cd-9190-1bee3669d27d",
   "metadata": {},
   "outputs": [
    {
     "name": "stdout",
     "output_type": "stream",
     "text": [
      "Enter List: 1,2,3\n"
     ]
    },
    {
     "name": "stdout",
     "output_type": "stream",
     "text": [
      "The Sum= 1\n",
      "The Sum= 3\n",
      "The Sum= 6\n"
     ]
    }
   ],
   "source": [
    "list=eval(input(\"Enter List:\"))\n",
    "sum=0;\n",
    "for x in list:\n",
    "    sum=sum+x;\n",
    "    print(\"The Sum=\",sum)"
   ]
  },
  {
   "cell_type": "code",
   "execution_count": 12,
   "id": "b9cb696c-05e1-4cf4-bf30-754c6a5ac210",
   "metadata": {},
   "outputs": [
    {
     "name": "stdout",
     "output_type": "stream",
     "text": [
      "1\n",
      "2\n",
      "3\n",
      "4\n",
      "5\n",
      "6\n",
      "7\n",
      "8\n",
      "9\n",
      "10\n"
     ]
    }
   ],
   "source": [
    "x=1\n",
    "while x <=10:\n",
    "    print(x)\n",
    "    x=x+1"
   ]
  },
  {
   "cell_type": "code",
   "execution_count": 14,
   "id": "d1ffbb53-65a7-45e8-a773-68a0d009916d",
   "metadata": {},
   "outputs": [
    {
     "name": "stdout",
     "output_type": "stream",
     "text": [
      "Enter number: 3\n"
     ]
    },
    {
     "name": "stdout",
     "output_type": "stream",
     "text": [
      "The sum of first 3 numbers is : 6\n"
     ]
    }
   ],
   "source": [
    "n=int(input(\"Enter number:\"))\n",
    "sum=0\n",
    "i=1\n",
    "while i<=n:\n",
    "    sum=sum+i\n",
    "    i=i+1\n",
    "print(\"The sum of first\",n,\"numbers is :\",sum)"
   ]
  },
  {
   "cell_type": "code",
   "execution_count": 15,
   "id": "138016f8-9de2-4e8c-97f6-8ba8c923fb3c",
   "metadata": {},
   "outputs": [
    {
     "name": "stdout",
     "output_type": "stream",
     "text": [
      "Enter Name: karthi\n",
      "Enter Name: Karthi\n"
     ]
    },
    {
     "name": "stdout",
     "output_type": "stream",
     "text": [
      "Thanks for confirmation\n"
     ]
    }
   ],
   "source": [
    "name=\"\"\n",
    "while name!=\"Karthi\":\n",
    "    name=input(\"Enter Name:\")\n",
    "print(\"Thanks for confirmation\")"
   ]
  },
  {
   "cell_type": "code",
   "execution_count": 16,
   "id": "23fd4629-cd49-4652-a601-073eb4d96c2e",
   "metadata": {},
   "outputs": [
    {
     "name": "stdout",
     "output_type": "stream",
     "text": [
      "Enter number of rows: 4\n"
     ]
    },
    {
     "name": "stdout",
     "output_type": "stream",
     "text": [
      "* \n",
      "* * \n",
      "* * * \n",
      "* * * * \n"
     ]
    }
   ],
   "source": [
    "n = int(input(\"Enter number of rows:\"))\n",
    "for i in range(1,n+1):\n",
    "    for j in range(1,i+1):\n",
    "        print(\"*\",end=\" \")\n",
    "    print()"
   ]
  },
  {
   "cell_type": "code",
   "execution_count": 18,
   "id": "d5952615-dba5-48b8-acd0-4073c052f8f1",
   "metadata": {},
   "outputs": [
    {
     "name": "stdout",
     "output_type": "stream",
     "text": [
      "1500\n",
      "1510\n",
      "1520\n",
      "1530\n",
      "1540\n",
      "1550\n",
      "1560\n",
      "1570\n",
      "1580\n",
      "1590\n",
      "1600\n",
      "1610\n",
      "1620\n",
      "1630\n",
      "1640\n",
      "1650\n",
      "1660\n",
      "1670\n",
      "1680\n",
      "1690\n",
      "1700\n",
      "1710\n",
      "1720\n",
      "1730\n",
      "1740\n",
      "1750\n",
      "1760\n",
      "1770\n",
      "1780\n",
      "1790\n",
      "1800\n",
      "1810\n",
      "1820\n",
      "1830\n",
      "1840\n",
      "1850\n",
      "1860\n",
      "1870\n",
      "1880\n",
      "1890\n",
      "1900\n",
      "1910\n",
      "1920\n",
      "1930\n",
      "1940\n",
      "1950\n",
      "1960\n",
      "1970\n",
      "1980\n",
      "1990\n",
      "2000\n",
      "2010\n",
      "2020\n",
      "2030\n",
      "2040\n",
      "2050\n",
      "2060\n",
      "2070\n",
      "2080\n",
      "2090\n",
      "2100\n",
      "2110\n",
      "2120\n",
      "2130\n",
      "2140\n",
      "2150\n",
      "2160\n",
      "2170\n",
      "2180\n",
      "2190\n",
      "2200\n",
      "2210\n",
      "2220\n",
      "2230\n",
      "2240\n",
      "2250\n",
      "2260\n",
      "2270\n",
      "2280\n",
      "2290\n",
      "2300\n",
      "2310\n",
      "2320\n",
      "2330\n",
      "2340\n",
      "2350\n",
      "2360\n",
      "2370\n",
      "2380\n",
      "2390\n",
      "2400\n",
      "2410\n",
      "2420\n",
      "2430\n",
      "2440\n",
      "2450\n",
      "2460\n",
      "2470\n",
      "2480\n",
      "2490\n",
      "2500\n",
      "2510\n",
      "2520\n",
      "2530\n",
      "2540\n",
      "2550\n",
      "2560\n",
      "2570\n",
      "2580\n",
      "2590\n",
      "2600\n",
      "2610\n",
      "2620\n",
      "2630\n",
      "2640\n",
      "2650\n",
      "2660\n",
      "2670\n",
      "2680\n",
      "2690\n",
      "2700\n"
     ]
    }
   ],
   "source": [
    "# q1Write a Python program to find those numbers which are divisible\n",
    "#by 2 and multiples of 5, between 1500 and 2700 (both included).\n",
    "for num in range(1500, 2701):\n",
    "    if num % 2 == 0 and num % 5 == 0:\n",
    "        print(num)\n"
   ]
  },
  {
   "cell_type": "code",
   "execution_count": 19,
   "id": "0e205f7e-aa89-4e3f-95a4-83439173938c",
   "metadata": {},
   "outputs": [
    {
     "name": "stdout",
     "output_type": "stream",
     "text": [
      "Enter a sentence:  this is python lab\n"
     ]
    },
    {
     "name": "stdout",
     "output_type": "stream",
     "text": [
      "Modified sentence: THIS IS PYTHON LAB\n"
     ]
    }
   ],
   "source": [
    "#2. Write a Python program that accepts a sentence from the user and\n",
    "#change the case.\n",
    "sentence = input(\"Enter a sentence: \")\n",
    "modified_sentence = \"\"\n",
    "\n",
    "for char in sentence:\n",
    "    if char.isupper():\n",
    "        modified_sentence += char.lower()\n",
    "    elif char.islower():\n",
    "        modified_sentence += char.upper()\n",
    "    else:\n",
    "        modified_sentence += char\n",
    "\n",
    "print(\"Modified sentence:\", modified_sentence)\n"
   ]
  },
  {
   "cell_type": "code",
   "execution_count": 3,
   "id": "d4dfedfe-7a94-4f3b-8d55-6cc89de021a1",
   "metadata": {},
   "outputs": [
    {
     "name": "stdout",
     "output_type": "stream",
     "text": [
      "Enter the starting number of the series:  2\n"
     ]
    },
    {
     "name": "stdout",
     "output_type": "stream",
     "text": [
      "Number of even numbers: 8\n",
      "Number of odd numbers: 8\n"
     ]
    }
   ],
   "source": [
    "#3. Write a Python program to count the number of even and odd numbers\n",
    "#in a series of 15 numbers.\n",
    "\n",
    "start = int(input(\"Enter the starting number of the series: \"))\n",
    "end = start + 15\n",
    "\n",
    "even_count = 0\n",
    "odd_count = 0\n",
    "\n",
    "for num in range(start, end + 1):\n",
    "    if num % 2 == 0:\n",
    "        even_count += 1\n",
    "    else:\n",
    "        odd_count += 1\n",
    "\n",
    "print(\"Number of even numbers:\", even_count)\n",
    "print(\"Number of odd numbers:\", odd_count)\n"
   ]
  },
  {
   "cell_type": "code",
   "execution_count": 1,
   "id": "ca4ff15b-f598-4950-8369-c6a596a1e017",
   "metadata": {},
   "outputs": [
    {
     "name": "stdout",
     "output_type": "stream",
     "text": [
      "5 8 13 21 "
     ]
    }
   ],
   "source": [
    "#Q4Write a Python program to get the Fibonacci series between 5 and\n",
    "#25.\n",
    "\n",
    "a, b = 0, 1\n",
    "while a <= 25:\n",
    "    if a >= 5:\n",
    "        print(a, end=\" \")\n",
    "    a, b = b, a + b\n",
    "\n",
    "\n"
   ]
  },
  {
   "cell_type": "code",
   "execution_count": 4,
   "id": "2b8e7c42-5424-4fa5-8407-b614fd7d1a58",
   "metadata": {},
   "outputs": [
    {
     "name": "stdout",
     "output_type": "stream",
     "text": [
      "Enter the number of rows (m):  2\n",
      "Enter the number of columns (n):  3\n"
     ]
    },
    {
     "name": "stdout",
     "output_type": "stream",
     "text": [
      "Two-dimensional array:\n",
      "[0, 0, 0]\n",
      "[0, 1, 2]\n"
     ]
    }
   ],
   "source": [
    "#Q5Write a Python program that takes two digits m (row) and n\n",
    "#(column) as input and generates a two-dimensional array. The element\n",
    "#value in the i-th row and j-th column of the array should be i*j.\n",
    "m = int(input(\"Enter the number of rows (m): \"))\n",
    "n = int(input(\"Enter the number of columns (n): \"))\n",
    "two_dimensional_array = []\n",
    "\n",
    "for i in range(m):\n",
    "    row = []\n",
    "    for j in range(n):\n",
    "        row.append(i * j)\n",
    "    two_dimensional_array.append(row)\n",
    "print(\"Two-dimensional array:\")\n",
    "for row in two_dimensional_array:\n",
    "    print(row)\n"
   ]
  },
  {
   "cell_type": "code",
   "execution_count": 6,
   "id": "0cbe5293-aa45-4b49-add1-82038dc2c680",
   "metadata": {},
   "outputs": [
    {
     "name": "stdout",
     "output_type": "stream",
     "text": [
      "Enter a string:  qwe2\n"
     ]
    },
    {
     "name": "stdout",
     "output_type": "stream",
     "text": [
      "Number of digits: 1\n",
      "Number of letters: 3\n"
     ]
    }
   ],
   "source": [
    "#Q6Write a Python program that accepts a string and calculates the\n",
    "#number of digits and letters.\n",
    "string = input(\"Enter a string: \")\n",
    "digit_count = 0\n",
    "letter_count = 0\n",
    "for char in string:\n",
    "    if char.isdigit():\n",
    "        digit_count += 1\n",
    "    \n",
    "    elif char.isalpha():\n",
    "        letter_count += 1\n",
    "print(\"Number of digits:\", digit_count)\n",
    "print(\"Number of letters:\", letter_count)\n"
   ]
  },
  {
   "cell_type": "code",
   "execution_count": 5,
   "id": "ad40f120-77d1-456f-bf1d-fbda9cce4520",
   "metadata": {},
   "outputs": [
    {
     "name": "stdout",
     "output_type": "stream",
     "text": [
      "Enter an alphabet:  t\n"
     ]
    },
    {
     "name": "stdout",
     "output_type": "stream",
     "text": [
      "t is a consonant.\n"
     ]
    }
   ],
   "source": [
    "#Q7Write a Python program to check whether an alphabet is a vowel or\n",
    "#consonant.\n",
    "alphabet = input(\"Enter an alphabet: \")\n",
    "alphabet = alphabet.lower()\n",
    "if len(alphabet) == 1:\n",
    "    \n",
    "    if alphabet.isalpha():\n",
    "        \n",
    "        if alphabet in 'aeiou':\n",
    "            print(f\"{alphabet} is a vowel.\")\n",
    "        else:\n",
    "            print(f\"{alphabet} is a consonant.\")\n",
    "    else:\n",
    "        print(\"Please enter a valid alphabet.\")\n",
    "else:\n",
    "    print(\"Please enter a single alphabet.\")\n"
   ]
  },
  {
   "cell_type": "code",
   "execution_count": 5,
   "id": "b77650ba-78c8-4574-931e-684cb718b0ad",
   "metadata": {},
   "outputs": [
    {
     "name": "stdout",
     "output_type": "stream",
     "text": [
      "Enter the month name:  july\n"
     ]
    },
    {
     "name": "stdout",
     "output_type": "stream",
     "text": [
      "Number of days in July: 31\n"
     ]
    }
   ],
   "source": [
    "#Q8write a python program to convert a month name to  number of days \n",
    "month_name = input(\"Enter the month name: \")\n",
    "month_name = month_name.capitalize()\n",
    "if month_name in [\"January\", \"March\", \"May\", \"July\", \"August\", \"October\", \"December\"]:\n",
    "    print(f\"Number of days in {month_name}: 31\")\n",
    "elif month_name == \"February\":\n",
    "    print(\"Number of days in February: 28\") \n",
    "elif month_name in [\"April\", \"June\", \"September\", \"November\"]:\n",
    "    print(f\"Number of days in {month_name}: 30\")\n",
    "else:\n",
    "    print(\"Invalid month name\")\n"
   ]
  },
  {
   "cell_type": "code",
   "execution_count": 9,
   "id": "f5cbf252-c31e-4c5d-abe7-f431ff8ab1e6",
   "metadata": {},
   "outputs": [
    {
     "name": "stdout",
     "output_type": "stream",
     "text": [
      "Enter a number:  7\n"
     ]
    },
    {
     "name": "stdout",
     "output_type": "stream",
     "text": [
      "Multiplication table for 7:\n",
      "7 x 1 = 7\n",
      "7 x 2 = 14\n",
      "7 x 3 = 21\n",
      "7 x 4 = 28\n",
      "7 x 5 = 35\n",
      "7 x 6 = 42\n",
      "7 x 7 = 49\n",
      "7 x 8 = 56\n",
      "7 x 9 = 63\n",
      "7 x 10 = 70\n"
     ]
    }
   ],
   "source": [
    "#Q9. Write a Python program to create the multiplication table (from 1\n",
    "#to 10) of a number.\n",
    "\n",
    "num = int(input(\"Enter a number: \"))\n",
    "print(f\"Multiplication table for {num}:\")\n",
    "for i in range(1, 11):\n",
    "    print(f\"{num} x {i} = {num * i}\")\n"
   ]
  },
  {
   "cell_type": "code",
   "execution_count": 6,
   "id": "73cb6f41-8a28-465a-bca3-3d9d49e8fd82",
   "metadata": {},
   "outputs": [
    {
     "name": "stdout",
     "output_type": "stream",
     "text": [
      "1\n",
      "22\n",
      "333\n",
      "4444\n"
     ]
    }
   ],
   "source": [
    "#10.Write a Python program to construct the following pattern, using a nested loop\n",
    "#number.\n",
    "#Expected Output:\n",
    "#1\n",
    "#22\n",
    "#333\n",
    "#4444\n",
    "rows = 4\n",
    "for i in range(1, rows + 1):\n",
    "    for j in range(1, i + 1):\n",
    "        print(i, end=\"\")\n",
    "    print(\"\")\n"
   ]
  }
 ],
 "metadata": {
  "kernelspec": {
   "display_name": "Python 3 (ipykernel)",
   "language": "python",
   "name": "python3"
  },
  "language_info": {
   "codemirror_mode": {
    "name": "ipython",
    "version": 3
   },
   "file_extension": ".py",
   "mimetype": "text/x-python",
   "name": "python",
   "nbconvert_exporter": "python",
   "pygments_lexer": "ipython3",
   "version": "3.12.1"
  }
 },
 "nbformat": 4,
 "nbformat_minor": 5
}
