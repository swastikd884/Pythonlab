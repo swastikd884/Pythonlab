{
 "cells": [
  {
   "cell_type": "code",
   "execution_count": 2,
   "id": "52a8a91d-a7f9-4799-b0d9-b424855fb33d",
   "metadata": {},
   "outputs": [
    {
     "name": "stdin",
     "output_type": "stream",
     "text": [
      "Enter List: 10\n"
     ]
    },
    {
     "name": "stdout",
     "output_type": "stream",
     "text": [
      "10\n",
      "<class 'str'>\n"
     ]
    }
   ],
   "source": [
    "list=(input(\"Enter List:\")) # Entire input is considered as string\n",
    "print(list)\n",
    "print(type(list))"
   ]
  },
  {
   "cell_type": "code",
   "execution_count": 6,
   "id": "8f1df8b5-7246-4532-8723-07fac471b924",
   "metadata": {},
   "outputs": [
    {
     "name": "stdin",
     "output_type": "stream",
     "text": [
      "Enter List: [10,20,30,40]\n"
     ]
    },
    {
     "name": "stdout",
     "output_type": "stream",
     "text": [
      "[10, 20, 30, 40]\n",
      "<class 'list'>\n"
     ]
    }
   ],
   "source": [
    "list=eval(input(\"Enter List:\"))\n",
    "print(list)\n",
    "print(type(list))"
   ]
  },
  {
   "cell_type": "code",
   "execution_count": 8,
   "id": "f1e17af9-f555-447b-87a0-03bfb27f85df",
   "metadata": {},
   "outputs": [
    {
     "name": "stdout",
     "output_type": "stream",
     "text": [
      "['Learning', 'Python', 'is', 'very', 'very', 'easy', '!!!']\n",
      "<class 'list'>\n"
     ]
    }
   ],
   "source": [
    "s=\"Learning Python is very very easy !!!\"\n",
    "l=s.split()\n",
    "print(l)\n",
    "print(type(l))"
   ]
  },
  {
   "cell_type": "code",
   "execution_count": 10,
   "id": "3edca87b-8f0c-4438-8724-1080b7a1aae1",
   "metadata": {},
   "outputs": [
    {
     "name": "stdout",
     "output_type": "stream",
     "text": [
      "The list of Tuples is  [(2, 8), (5, 125)]\n"
     ]
    }
   ],
   "source": [
    "#1. Python program to create a list of tuples from given list having number and its cube\n",
    "#in each tuple\n",
    "myList = [2,5]\n",
    "\n",
    "tupleList = [] \n",
    "for val in myList:\n",
    "    myTuple = (val, (val*val*val))\n",
    "    tupleList.append(myTuple)\n",
    "\n",
    "print(\"The list of Tuples is \" , str(tupleList))\n"
   ]
  },
  {
   "cell_type": "code",
   "execution_count": 12,
   "id": "d7e31275-ea53-416c-80d8-d1871d725837",
   "metadata": {},
   "outputs": [
    {
     "name": "stdin",
     "output_type": "stream",
     "text": [
      "Enter the length of tuples to remove:  3\n"
     ]
    },
    {
     "name": "stdout",
     "output_type": "stream",
     "text": [
      "List after removing tuples of length 3 : [(1, 2), (6, 7)]\n"
     ]
    }
   ],
   "source": [
    "#2. Python program to remove all tuples of length K\n",
    "def remove_tuples_of_length_k(lst, k):\n",
    "    return [tup for tup in lst if len(tup) != k]\n",
    "\n",
    "my_list = [(1, 2), (3, 4, 5), (6, 7), (8, 9, 10)]\n",
    "k = int(input(\"Enter the length of tuples to remove: \"))\n",
    "\n",
    "result = remove_tuples_of_length_k(my_list, k)\n",
    "print(\"List after removing tuples of length\", k, \":\", result)\n"
   ]
  },
  {
   "cell_type": "code",
   "execution_count": 11,
   "id": "241d8482-9075-4795-bddf-ac11df4bd3f7",
   "metadata": {},
   "outputs": [
    {
     "name": "stdout",
     "output_type": "stream",
     "text": [
      "List after adding tuple: [(1, 2), (3, 4), (5, 6)]\n",
      "Tuple after adding list: (1, 2, 3, 4, 5, 6)\n"
     ]
    }
   ],
   "source": [
    "#3. Python program for adding a Tuple to List and Vice-Versa# Function to add a tuple to a list\n",
    "\n",
    "def add_tuple_to_list(lst, tup):\n",
    "    lst.append(tup)\n",
    "\n",
    "def add_list_to_tuple(tup, lst):\n",
    "    new_tuple = tup + tuple(lst)\n",
    "    return new_tuple\n",
    "my_list = [(1, 2), (3, 4)]\n",
    "new_tuple = (5, 6)\n",
    "add_tuple_to_list(my_list, new_tuple)\n",
    "print(\"List after adding tuple:\", my_list)\n",
    "\n",
    "my_tuple = (1, 2, 3)\n",
    "new_list = [4, 5, 6]\n",
    "result_tuple = add_list_to_tuple(my_tuple, new_list)\n",
    "print(\"Tuple after adding list:\", result_tuple)\n",
    "\n",
    "\n",
    "\n",
    "\n"
   ]
  },
  {
   "cell_type": "code",
   "execution_count": 31,
   "id": "0ade7eca-d5a4-427f-ad1e-57e396515c0e",
   "metadata": {},
   "outputs": [
    {
     "name": "stdout",
     "output_type": "stream",
     "text": [
      "Modified List: [(-1, 2, -3), (4, -5, 6), (-7, 8, -9)]\n"
     ]
    }
   ],
   "source": [
    "#4. Python program to change the sign of elements of tuples in a list\n",
    "def change_sign_of_tuples(tuples_list):\n",
    "    new_list = []\n",
    "    for tup in tuples_list:\n",
    "        new_tuple = tuple(-x for x in tup)\n",
    "        new_list.append(new_tuple)\n",
    "    return new_list\n",
    "tuples_list = [(1, -2, 3), (-4, 5, -6), (7, -8, 9)]\n",
    "modified_list = change_sign_of_tuples(tuples_list)\n",
    "print(\"Modified List:\", modified_list)\n",
    "\n",
    "\n"
   ]
  },
  {
   "cell_type": "code",
   "execution_count": 17,
   "id": "517c6fb8-73f4-4385-8042-4b2fbd82329f",
   "metadata": {},
   "outputs": [
    {
     "name": "stdout",
     "output_type": "stream",
     "text": [
      "The list of tuples before conversion is : [('dbms', '6'), ('os', '9'), ('Cn', '2')]\n",
      "The list of tuples after conversion is : [('dbms', 6.0), ('os', 9.0), ('Cn', 2.0)]\n"
     ]
    }
   ],
   "source": [
    "#5. Python program to convert integer values in a list of tuples to float\n",
    "\n",
    "\n",
    "tupleList = [(\"dbms\", \"6\"), (\"os\", \"9\"), (\"Cn\", \"2\")]\n",
    "print(\"The list of tuples before conversion is : \" + str(tupleList))\n",
    "\n",
    "conTupList = []\n",
    "for tup in tupleList:\n",
    "\tconvColl = []\n",
    "\tfor ele in tup:\n",
    "\t\tif ele.isalpha():\n",
    "\t\t    convColl.append(ele)\n",
    "\t\telse:\n",
    "\t\t    convColl.append(float(ele))\n",
    "\tconTupList.append((convColl[0],convColl[1]))\n",
    "\n",
    "print(\"The list of tuples after conversion is : \" + str(conTupList))\n"
   ]
  },
  {
   "cell_type": "code",
   "execution_count": 18,
   "id": "c53caa25-6a34-4172-b5e3-7c31b85bf495",
   "metadata": {},
   "outputs": [
    {
     "name": "stdout",
     "output_type": "stream",
     "text": [
      "Binary Tuple: (1, 0, 1, 0)\n",
      "Integer Value: 10\n"
     ]
    }
   ],
   "source": [
    "#6. Python program to convert binary tuple to integer\n",
    "def binary_tuple_to_integer(binary_tuple):\n",
    "    decimal_value = 0\n",
    "    power = len(binary_tuple) - 1\n",
    "    for bit in binary_tuple:\n",
    "        decimal_value += bit * (2 ** power)\n",
    "        power -= 1\n",
    "    return decimal_value\n",
    "\n",
    "binary_tuple = (1, 0, 1, 0) \n",
    "result = binary_tuple_to_integer(binary_tuple)\n",
    "print(\"Binary Tuple:\", binary_tuple)\n",
    "print(\"Integer Value:\", result)\n"
   ]
  },
  {
   "cell_type": "code",
   "execution_count": 20,
   "id": "7016599c-ec27-4c1b-9a28-625ac1f2ddb5",
   "metadata": {},
   "outputs": [
    {
     "name": "stdout",
     "output_type": "stream",
     "text": [
      "Tuple Matrix:\n",
      "(1, 2, 3)\n",
      "(4, 5, 6)\n",
      "(7, 8, 9)\n",
      "\n",
      "Tuple List:\n",
      "(1, 2, 3)\n",
      "(4, 5, 6)\n",
      "(7, 8, 9)\n"
     ]
    }
   ],
   "source": [
    "#7. Python program to convert tuple matrix to tuple list\n",
    "def tuple_matrix_to_list(matrix):\n",
    "    tuple_list = [tuple(row) for row in matrix]\n",
    "    return tuple_list\n",
    "\n",
    "# Example usage\n",
    "tuple_matrix = ((1, 2, 3), (4, 5, 6), (7, 8, 9)) \n",
    "tuple_list = tuple_matrix_to_list(tuple_matrix)\n",
    "print(\"Tuple Matrix:\")\n",
    "for row in tuple_matrix:\n",
    "    print(row)\n",
    "\n",
    "print(\"\\nTuple List:\")\n",
    "for row in tuple_list:\n",
    "    print(row)\n",
    "\n"
   ]
  },
  {
   "cell_type": "code",
   "execution_count": 21,
   "id": "ccc73920-9af1-424b-bb1f-b6519ea2e023",
   "metadata": {},
   "outputs": [
    {
     "name": "stdout",
     "output_type": "stream",
     "text": [
      "Original Tuple: (1, 2, 3, 4, 5, 6, 7, 8, 9, 10)\n",
      "Even Indexed Elements: (1, 3, 5, 7, 9)\n"
     ]
    }
   ],
   "source": [
    "#8. Python program to get even indexed elements in tuple\n",
    "def get_even_index_elements(tup):\n",
    "    even_index_elements = tup[::2]\n",
    "    return even_index_elements\n",
    "\n",
    "my_tuple = (1, 2, 3, 4, 5, 6, 7, 8, 9, 10)  # Example tuple\n",
    "result = get_even_index_elements(my_tuple)\n",
    "print(\"Original Tuple:\", my_tuple)\n",
    "print(\"Even Indexed Elements:\", result)\n"
   ]
  },
  {
   "cell_type": "code",
   "execution_count": 27,
   "id": "c7a24896-97fc-41c6-bd5d-19265454af78",
   "metadata": {},
   "outputs": [
    {
     "name": "stdout",
     "output_type": "stream",
     "text": [
      "Sorted tuples: [(1, 2), (12, 345, 67), (1234, 56, 7), (89, 0, 123456789)]\n"
     ]
    }
   ],
   "source": [
    "#9. Python program to sort tuples by total digits\n",
    "def total_digits(num_tuple):\n",
    "    total = 0\n",
    "    for num in num_tuple:\n",
    "        total += len(str(num))\n",
    "    return total\n",
    "\n",
    "def sort_tuples_by_total_digits(tuple_list):\n",
    "    return sorted(tuple_list, key=total_digits)\n",
    "\n",
    "tuples_list = [(12, 345, 67), (1234, 56, 7), (89, 0, 123456789),(1,2)]\n",
    "sorted_tuples = sort_tuples_by_total_digits(tuples_list)\n",
    "print(\"Sorted tuples:\", sorted_tuples)\n",
    "\n",
    "\n"
   ]
  },
  {
   "cell_type": "code",
   "execution_count": null,
   "id": "336325dd-e19c-4423-b130-6cb9c645f09b",
   "metadata": {},
   "outputs": [],
   "source": [
    "#10. Python program to perform AND operation on tuples\n",
    "\n",
    "def tuple_and(tuple1, tuple2):\n",
    "    if len(tuple1) != len(tuple2):\n",
    "        raise ValueError(\"Tuples must have the same length\")\n",
    "\n",
    "    result = tuple(a and b for a, b in zip(tuple1, tuple2))\n",
    "    return result\n",
    "\n",
    "tuple1 = (True, False, True)\n",
    "tuple2 = (False, True, True)\n",
    "\n",
    "result = tuple_and(tuple1, tuple2)\n",
    "print(\"Result of AND operation on tuples:\", result)\n"
   ]
  },
  {
   "cell_type": "code",
   "execution_count": 32,
   "id": "a423dbd8-1151-4b61-b7ca-e6d22fb9c32f",
   "metadata": {},
   "outputs": [
    {
     "name": "stdout",
     "output_type": "stream",
     "text": [
      "Result of adding 15 to 10 is: 25\n",
      "Result of multiplying 5 and 6 is: 30\n"
     ]
    }
   ],
   "source": [
    "#11.Write a Python program to create a lambda function that adds 15 to a given\n",
    "#number passed in as an argument, also create a lambda function that multiplies\n",
    "#argument x with argument y and prints the result.\n",
    "\n",
    "add_15 = lambda x: x + 15\n",
    "multiply = lambda x, y: x * y\n",
    "number = 10\n",
    "result_add_15 = add_15(number)\n",
    "print(\"Result of adding 15 to\", number, \"is:\", result_add_15)\n",
    "\n",
    "x = 5\n",
    "y = 6\n",
    "result_multiply = multiply(x, y)\n",
    "print(\"Result of multiplying\", x, \"and\", y, \"is:\", result_multiply)\n"
   ]
  },
  {
   "cell_type": "code",
   "execution_count": 33,
   "id": "f6a244b3-a98d-4e1a-9cdb-c46684352e29",
   "metadata": {},
   "outputs": [
    {
     "name": "stdout",
     "output_type": "stream",
     "text": [
      "Original list of tuples:\n",
      "[('English', 88), ('Science', 90), ('Maths', 97), ('Social sciences', 82)]\n",
      "Sorting the List of Tuples:\n",
      "[('Social sciences', 82), ('English', 88), ('Science', 90), ('Maths', 97)]\n"
     ]
    }
   ],
   "source": [
    "#12.Write a Python program to sort a list of tuples using Lambda.\n",
    "original_list = [('English', 88), ('Science', 90), ('Maths', 97), ('Social sciences', 82)]\n",
    "\n",
    "sorted_list = sorted(original_list, key=lambda x: x[1])\n",
    "\n",
    "print(\"Original list of tuples:\")\n",
    "print(original_list)\n",
    "print(\"Sorting the List of Tuples:\")\n",
    "print(sorted_list)\n"
   ]
  },
  {
   "cell_type": "code",
   "execution_count": 34,
   "id": "9f48bc72-9c87-447c-988e-cf251da27f87",
   "metadata": {},
   "outputs": [
    {
     "name": "stdout",
     "output_type": "stream",
     "text": [
      "Original List: [1, 2, 3, 4, 5]\n",
      "Squared List: [1, 4, 9, 16, 25]\n",
      "Cubed List: [1, 8, 27, 64, 125]\n"
     ]
    }
   ],
   "source": [
    "#13.Write a Python program to square and cube every number in a given list of integers\n",
    "#using Lambda.\n",
    "numbers = [1, 2, 3, 4, 5]\n",
    "\n",
    "square = lambda x: x ** 2\n",
    "\n",
    "cube = lambda x: x ** 3\n",
    "\n",
    "squared_numbers = [square(x) for x in numbers]\n",
    "\n",
    "cubed_numbers = [cube(x) for x in numbers]\n",
    "print(\"Original List:\", numbers)\n",
    "print(\"Squared List:\", squared_numbers)\n",
    "print(\"Cubed List:\", cubed_numbers)\n"
   ]
  },
  {
   "cell_type": "code",
   "execution_count": 35,
   "id": "4a324a0d-a955-4774-b94e-f6d9102e6884",
   "metadata": {},
   "outputs": [
    {
     "name": "stdout",
     "output_type": "stream",
     "text": [
      "2024-02-12 10:15:21.109809\n",
      "2024\n",
      "2\n",
      "12\n",
      "10:15:21.109809\n"
     ]
    }
   ],
   "source": [
    "#14.Write a Python program to extract year, month, date and time using Lambda.\n",
    "import datetime\n",
    "dt = datetime.datetime.now()\n",
    "\n",
    "get_year = lambda x: x.year\n",
    "get_month = lambda x: x.month\n",
    "get_date = lambda x: x.day\n",
    "get_time = lambda x: x.strftime(\"%H:%M:%S.%f\")\n",
    "year = get_year(dt)\n",
    "month = get_month(dt)\n",
    "date = get_date(dt)\n",
    "time = get_time(dt)\n",
    "print(dt)\n",
    "print(year)\n",
    "print(month)\n",
    "print(date)\n",
    "print(time)\n"
   ]
  }
 ],
 "metadata": {
  "kernelspec": {
   "display_name": "Python 3 (ipykernel)",
   "language": "python",
   "name": "python3"
  },
  "language_info": {
   "codemirror_mode": {
    "name": "ipython",
    "version": 3
   },
   "file_extension": ".py",
   "mimetype": "text/x-python",
   "name": "python",
   "nbconvert_exporter": "python",
   "pygments_lexer": "ipython3",
   "version": "3.12.1"
  }
 },
 "nbformat": 4,
 "nbformat_minor": 5
}
