{
 "cells": [
  {
   "cell_type": "code",
   "execution_count": 1,
   "id": "579328d7-fbae-4537-9885-3ee95d2bbb5e",
   "metadata": {},
   "outputs": [
    {
     "name": "stdout",
     "output_type": "stream",
     "text": [
      "10 is less than 20\n",
      "end of program\n"
     ]
    }
   ],
   "source": [
    "if(10<20):\n",
    "    print(\"10 is less than 20\")\n",
    "print(\"end of program\")"
   ]
  },
  {
   "cell_type": "code",
   "execution_count": 2,
   "id": "d4dd845a-05aa-47e4-97f8-441c03d3d657",
   "metadata": {},
   "outputs": [
    {
     "name": "stdin",
     "output_type": "stream",
     "text": [
      "Enter Name Karthi\n"
     ]
    },
    {
     "name": "stdout",
     "output_type": "stream",
     "text": [
      "Hello Karthi Good Morning\n",
      "How are you!\n"
     ]
    }
   ],
   "source": [
    "name=input(\"Enter Name\")\n",
    "if name==\"Karthi\":\n",
    "    print(\"Hello Karthi Good Morning\")\n",
    "print(\"How are you!\")"
   ]
  },
  {
   "cell_type": "code",
   "execution_count": 3,
   "id": "bf81fa13-b4e4-4c12-9015-07fe71529da8",
   "metadata": {},
   "outputs": [
    {
     "name": "stdin",
     "output_type": "stream",
     "text": [
      "Enter Name ravi\n"
     ]
    },
    {
     "name": "stdout",
     "output_type": "stream",
     "text": [
      "How are you!\n"
     ]
    }
   ],
   "source": [
    "name=input(\"Enter Name\")\n",
    "if name==\"Karthi\":\n",
    "    print(\"Hello Karthi Good Morning\")\n",
    "print(\"How are you!\")"
   ]
  },
  {
   "cell_type": "code",
   "execution_count": 5,
   "id": "f30830aa-4d02-497b-84cc-7a70563be4b0",
   "metadata": {},
   "outputs": [
    {
     "name": "stdin",
     "output_type": "stream",
     "text": [
      "Enter Name ravi\n"
     ]
    },
    {
     "name": "stdout",
     "output_type": "stream",
     "text": [
      "Hello guest good morning \n",
      "how are you\n"
     ]
    }
   ],
   "source": [
    "name=input(\"Enter Name\")\n",
    "if name==\"Karthi\":\n",
    "    print(\"Hello Karthi Good Morning\")\n",
    "else:\n",
    "    print(\"Hello guest good morning \")\n",
    "print(\"how are you\")"
   ]
  },
  {
   "cell_type": "code",
   "execution_count": 7,
   "id": "5e82dd3e-fce5-4842-9009-be614763dbc9",
   "metadata": {},
   "outputs": [
    {
     "name": "stdin",
     "output_type": "stream",
     "text": [
      "enter a number 12\n",
      "enter a number 10\n"
     ]
    },
    {
     "name": "stdout",
     "output_type": "stream",
     "text": [
      "The bigger number is: 12\n"
     ]
    }
   ],
   "source": [
    "#Q1. Write a program to find biggest of given 2 numbers\n",
    "num1_103=input(\"enter a number\")\n",
    "num2_103=input(\"enter a number\")\n",
    "if(num1_103>num2_103):\n",
    "    biggest_103=num1_103\n",
    "else:\n",
    "    biggest_103=num2_103\n",
    "print(\"The bigger number is:\",biggest_103)"
   ]
  },
  {
   "cell_type": "code",
   "execution_count": 25,
   "id": "37426e47-5bc3-498a-bb5d-b30c28e94b57",
   "metadata": {},
   "outputs": [
    {
     "name": "stdin",
     "output_type": "stream",
     "text": [
      "Enter the first number:  1\n",
      "Enter the second number:  4\n",
      "Enter the third number:  7\n"
     ]
    },
    {
     "name": "stdout",
     "output_type": "stream",
     "text": [
      "The largest number is  7\n"
     ]
    }
   ],
   "source": [
    "#Q2Write a program to find biggest of given 3 numbers\n",
    "\n",
    "num1 = int(input(\"Enter the first number: \"))\n",
    "num2 = int(input(\"Enter the second number: \"))\n",
    "num3 = int(input(\"Enter the third number: \"))\n",
    "\n",
    "if num1 >= num2 and num1 >= num3:\n",
    "    largest_number = num1\n",
    "elif num2 >= num1 and num2 >= num3:\n",
    "    largest_number = num2\n",
    "else:\n",
    "    largest_number = num3\n",
    "\n",
    "print(\"The largest number is \",largest_number)\n",
    "\n",
    "    \n"
   ]
  },
  {
   "cell_type": "code",
   "execution_count": 27,
   "id": "06d5cf40-3f61-478e-9e42-0d9ffdb70a65",
   "metadata": {},
   "outputs": [
    {
     "name": "stdin",
     "output_type": "stream",
     "text": [
      "Enter the first number:  1\n",
      "Enter the second number:  2\n",
      "Enter the third number:  3\n"
     ]
    },
    {
     "name": "stdout",
     "output_type": "stream",
     "text": [
      "The smallest number is  1\n"
     ]
    }
   ],
   "source": [
    "#Q3 Write a program to find smallest of given 3 numbers.\n",
    "num1 = int(input(\"Enter the first number: \"))\n",
    "num2 = int(input(\"Enter the second number: \"))\n",
    "num3 = int(input(\"Enter the third number: \"))\n",
    "\n",
    "if num1 <= num2 and num1 <= num3:\n",
    "    smallest_number = num1\n",
    "elif num2 <= num1 and num2 <= num3:\n",
    "    smallest_number = num2\n",
    "else:\n",
    "    smallest_number = num3\n",
    "\n",
    "print(\"The smallest number is \",smallest_number)\n"
   ]
  },
  {
   "cell_type": "code",
   "execution_count": 20,
   "id": "7662b9e1-0f0d-4db9-9e9d-333bfaf8f0c8",
   "metadata": {},
   "outputs": [
    {
     "name": "stdin",
     "output_type": "stream",
     "text": [
      "enter a number 4\n"
     ]
    },
    {
     "name": "stdout",
     "output_type": "stream",
     "text": [
      "it is even\n"
     ]
    }
   ],
   "source": [
    "#Q4.Write a program to check whether the given number is even or odd.\n",
    "num=int(input(\"enter a number\"))\n",
    "if num%2 == 0:\n",
    "    print(\"it is even\")\n",
    "else:\n",
    "    print(\"it is odd\")\n"
   ]
  },
  {
   "cell_type": "code",
   "execution_count": 28,
   "id": "4229678b-5af9-460a-a974-5574366def29",
   "metadata": {},
   "outputs": [
    {
     "name": "stdin",
     "output_type": "stream",
     "text": [
      "enter a number 3\n"
     ]
    },
    {
     "name": "stdout",
     "output_type": "stream",
     "text": [
      "number is between 1 to 100\n"
     ]
    }
   ],
   "source": [
    "#Q5Write a program to check whether the given number is in between 1 and 100.\n",
    "num=int(input(\"enter a number\"))\n",
    "if num>1 and num<100:\n",
    "    print(\"number is between 1 to 100\")\n",
    "else:\n",
    "    print(\"number is not between 1 to 100\")\n"
   ]
  },
  {
   "cell_type": "code",
   "execution_count": 29,
   "id": "1bb706dc-f150-4452-93c4-a7761985399c",
   "metadata": {},
   "outputs": [
    {
     "name": "stdin",
     "output_type": "stream",
     "text": [
      "Enter a single-digit number:  1\n"
     ]
    },
    {
     "name": "stdout",
     "output_type": "stream",
     "text": [
      "The value of 1 in English words is: One\n"
     ]
    }
   ],
   "source": [
    "#q6\n",
    "digit_input = input(\"Enter a single-digit number: \")\n",
    "\n",
    "\n",
    "if digit_input.isdigit():\n",
    "    digit = int(digit_input)\n",
    "\n",
    "    if 0 <= digit <= 9:\n",
    "        words = [\"Zero\", \"One\", \"Two\", \"Three\", \"Four\", \"Five\", \"Six\", \"Seven\", \"Eight\", \"Nine\"]\n",
    "\n",
    "        \n",
    "        if digit == 0:\n",
    "            print(\"The value of 0 in English words is: Zero\")\n",
    "        elif digit == 1:\n",
    "            print(\"The value of 1 in English words is: One\")\n",
    "        elif digit == 2:\n",
    "            print(\"The value of 2 in English words is: Two\")\n",
    "        elif digit == 3:\n",
    "            print(\"The value of 3 in English words is: Three\")\n",
    "        elif digit == 4:\n",
    "            print(\"The value of 4 in English words is: Four\")\n",
    "        elif digit == 5:\n",
    "            print(\"The value of 5 in English words is: Five\")\n",
    "        elif digit == 6:\n",
    "            print(\"The value of 6 in English words is: Six\")\n",
    "        elif digit == 7:\n",
    "            print(\"The value of 7 in English words is: Seven\")\n",
    "        elif digit == 8:\n",
    "            print(\"The value of 8 in English words is: Eight\")\n",
    "        elif digit == 9:\n",
    "            print(\"The value of 9 in English words is: Nine\")\n",
    "    else:\n",
    "        print(\"Please enter a valid single-digit number.\")\n",
    "else:\n",
    "    print(\"Invalid input. Please enter a numeric value.\")\n"
   ]
  },
  {
   "cell_type": "code",
   "execution_count": 30,
   "id": "c567ba5e-da29-4d06-ab12-c063fe36381b",
   "metadata": {},
   "outputs": [
    {
     "name": "stdin",
     "output_type": "stream",
     "text": [
      "Enter a year:  2000\n"
     ]
    },
    {
     "name": "stdout",
     "output_type": "stream",
     "text": [
      "2000 is a leap year.\n"
     ]
    }
   ],
   "source": [
    "# Input year from the userq7\n",
    "year = int(input(\"Enter a year: \"))\n",
    "if (year % 4 == 0 and year % 100 != 0) or (year % 400 == 0):\n",
    "    print(f\"{year} is a leap year.\")\n",
    "else:\n",
    "    print(f\"{year} is not a leap year.\")\n"
   ]
  },
  {
   "cell_type": "code",
   "execution_count": 31,
   "id": "383071de-e7d2-46c7-9f73-8e5cefa767e2",
   "metadata": {},
   "outputs": [
    {
     "name": "stdin",
     "output_type": "stream",
     "text": [
      "Enter a word in lower case:  werty\n"
     ]
    },
    {
     "name": "stdout",
     "output_type": "stream",
     "text": [
      "The word in upper case is: WERTY\n"
     ]
    }
   ],
   "source": [
    "#q8\n",
    "word_lower = input(\"Enter a word in lower case: \")\n",
    "word_upper = word_lower.upper()\n",
    "print(f\"The word in upper case is: {word_upper}\")\n"
   ]
  },
  {
   "cell_type": "code",
   "execution_count": 35,
   "id": "d591c12b-04d8-41ef-bf75-2503733fe6d1",
   "metadata": {},
   "outputs": [
    {
     "name": "stdin",
     "output_type": "stream",
     "text": [
      "enter the marks 89\n"
     ]
    },
    {
     "name": "stdout",
     "output_type": "stream",
     "text": [
      "b\n"
     ]
    }
   ],
   "source": [
    "marks=int(input(\"enter the marks\"))\n",
    "if marks>90:\n",
    "    grade=\"a\"\n",
    "elif marks>80 and marks<90:\n",
    "    grade=\"b\"\n",
    "elif marks>60 and marks<80:\n",
    "    grade=\"c\"\n",
    "else:\n",
    "    grade=\"d\"\n",
    "print(grade)\n"
   ]
  },
  {
   "cell_type": "code",
   "execution_count": 36,
   "id": "701d5d7b-1d9c-4734-8f25-3eafdfc7cac3",
   "metadata": {},
   "outputs": [
    {
     "name": "stdin",
     "output_type": "stream",
     "text": [
      "enter cost 10000\n"
     ]
    },
    {
     "name": "stdout",
     "output_type": "stream",
     "text": [
      "500.0\n"
     ]
    }
   ],
   "source": [
    "cost=int(input(\"enter cost\"))\n",
    "if cost>100000:\n",
    "    tax=0.15*cost\n",
    "elif cost>50000 and cost<=100000:\n",
    "    tax=0.10*cost\n",
    "else:\n",
    "    tax=0.05*cost\n",
    "print(tax)\n"
   ]
  },
  {
   "cell_type": "code",
   "execution_count": 37,
   "id": "b2b856df-46ca-40b2-85f6-082d5122e015",
   "metadata": {},
   "outputs": [
    {
     "name": "stdin",
     "output_type": "stream",
     "text": [
      "Enter a number:  23\n"
     ]
    },
    {
     "name": "stdout",
     "output_type": "stream",
     "text": [
      "23 is not a three-digit number.\n"
     ]
    }
   ],
   "source": [
    "\n",
    "user_input = input(\"Enter a number: \")\n",
    "if user_input.isdigit():\n",
    "    user_number = int(user_input)\n",
    "    if 100 <= user_number <= 999:\n",
    "        print(f\"{user_number} is a three-digit number.\")\n",
    "    else:\n",
    "        print(f\"{user_number} is not a three-digit number.\")\n",
    "else:\n",
    "    print(\"Invalid input. Please enter a valid integer.\")\n"
   ]
  },
  {
   "cell_type": "code",
   "execution_count": 38,
   "id": "747be6a3-7754-4af6-a246-3f18e1bc5815",
   "metadata": {},
   "outputs": [
    {
     "name": "stdin",
     "output_type": "stream",
     "text": [
      "Enter a number from 1 to 12:  2\n"
     ]
    },
    {
     "name": "stdout",
     "output_type": "stream",
     "text": [
      "2 is February and it has 28 days.\n"
     ]
    }
   ],
   "source": [
    "month_number = int(input(\"Enter a number from 1 to 12: \"))\n",
    "if 1 <= month_number <= 12:\n",
    "    months = [\"January\", \"February\", \"March\", \"April\", \"May\", \"June\", \"July\", \"August\", \"September\", \"October\", \"November\", \"December\"]\n",
    "    days_in_month = [31, 28, 31, 30, 31, 30, 31, 31, 30, 31, 30, 31]\n",
    "    month_name = months[month_number - 1]\n",
    "    days = days_in_month[month_number - 1]\n",
    "\n",
    "    print(f\"{month_number} is {month_name} and it has {days} days.\")\n",
    "else:\n",
    "    print(\"Invalid input. Please enter a number between 1 and 12.\")\n"
   ]
  }
 ],
 "metadata": {
  "kernelspec": {
   "display_name": "Python 3 (ipykernel)",
   "language": "python",
   "name": "python3"
  },
  "language_info": {
   "codemirror_mode": {
    "name": "ipython",
    "version": 3
   },
   "file_extension": ".py",
   "mimetype": "text/x-python",
   "name": "python",
   "nbconvert_exporter": "python",
   "pygments_lexer": "ipython3",
   "version": "3.12.1"
  }
 },
 "nbformat": 4,
 "nbformat_minor": 5
}
