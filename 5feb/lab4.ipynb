{
 "cells": [
  {
   "cell_type": "code",
   "execution_count": 1,
   "id": "948b087c-974f-42f0-b41d-5fa9e43e8074",
   "metadata": {},
   "outputs": [
    {
     "name": "stdout",
     "output_type": "stream",
     "text": [
      "K\n",
      "i\n",
      "i\n"
     ]
    },
    {
     "ename": "IndexError",
     "evalue": "string index out of range",
     "output_type": "error",
     "traceback": [
      "\u001b[1;31m---------------------------------------------------------------------------\u001b[0m",
      "\u001b[1;31mIndexError\u001b[0m                                Traceback (most recent call last)",
      "Cell \u001b[1;32mIn[1], line 5\u001b[0m\n\u001b[0;32m      3\u001b[0m \u001b[38;5;28mprint\u001b[39m(s[\u001b[38;5;241m5\u001b[39m])\n\u001b[0;32m      4\u001b[0m \u001b[38;5;28mprint\u001b[39m(s[\u001b[38;5;241m-\u001b[39m\u001b[38;5;241m1\u001b[39m])\n\u001b[1;32m----> 5\u001b[0m \u001b[38;5;28mprint\u001b[39m(\u001b[43ms\u001b[49m\u001b[43m[\u001b[49m\u001b[38;5;241;43m19\u001b[39;49m\u001b[43m]\u001b[49m)\n",
      "\u001b[1;31mIndexError\u001b[0m: string index out of range"
     ]
    }
   ],
   "source": [
    "s = 'Karthi'\n",
    "print(s[0])\n",
    "print(s[5])\n",
    "print(s[-1])\n",
    "print(s[19])\n"
   ]
  },
  {
   "cell_type": "code",
   "execution_count": 2,
   "id": "e58811b1-ad26-4614-8931-7a184abe331e",
   "metadata": {},
   "outputs": [
    {
     "name": "stdout",
     "output_type": "stream",
     "text": [
      "cdefg\n"
     ]
    }
   ],
   "source": [
    "s = 'abcdefghijk'\n",
    "print(s[2:7])\n"
   ]
  },
  {
   "cell_type": "code",
   "execution_count": 3,
   "id": "73db0c8d-af4b-4d95-baa8-55fa6adb284f",
   "metadata": {},
   "outputs": [
    {
     "name": "stdout",
     "output_type": "stream",
     "text": [
      "cdefg\n"
     ]
    }
   ],
   "source": [
    "s = 'abcdefghijk'\n",
    "print(s[2:7:1])"
   ]
  },
  {
   "cell_type": "code",
   "execution_count": 5,
   "id": "a510ef57-794c-4984-bd9f-6293c6571055",
   "metadata": {},
   "outputs": [
    {
     "name": "stdout",
     "output_type": "stream",
     "text": [
      "KIIT University\n"
     ]
    }
   ],
   "source": [
    "def my_function():\n",
    "    print(\"KIIT University\")\n",
    "my_function()"
   ]
  },
  {
   "cell_type": "code",
   "execution_count": 7,
   "id": "06f8ee57-dbe2-4966-9a4b-aff7dc65dc71",
   "metadata": {},
   "outputs": [
    {
     "name": "stdout",
     "output_type": "stream",
     "text": [
      "Hello  Python\n",
      "Hello  KIIT\n"
     ]
    }
   ],
   "source": [
    "def my_function(name):\n",
    "    print(\"Hello \", name)\n",
    "my_function(\"Python\")\n",
    "my_function(\"KIIT\")"
   ]
  },
  {
   "cell_type": "code",
   "execution_count": 8,
   "id": "d4a5efe2-70ed-4802-acbb-a7f154376d09",
   "metadata": {},
   "outputs": [
    {
     "name": "stdout",
     "output_type": "stream",
     "text": [
      "Hello KIIT\n"
     ]
    }
   ],
   "source": [
    "def my_function(name1,name2):\n",
    "    print(name1, name2)\n",
    "my_function(\"Hello\",\"KIIT\")"
   ]
  },
  {
   "cell_type": "code",
   "execution_count": 9,
   "id": "78dea5ae-8f9e-44a3-b43a-c56e9927d10a",
   "metadata": {},
   "outputs": [
    {
     "name": "stdout",
     "output_type": "stream",
     "text": [
      "even\n",
      "odd\n"
     ]
    }
   ],
   "source": [
    "def evenOdd(x):\n",
    "    if (x % 2 == 0):\n",
    "        print(\"even\")\n",
    "    else:\n",
    "        print(\"odd\")\n",
    "evenOdd(2)\n",
    "evenOdd(3)"
   ]
  },
  {
   "cell_type": "code",
   "execution_count": 11,
   "id": "00f5fd02-9797-4fb5-9838-216e0a2b6256",
   "metadata": {},
   "outputs": [
    {
     "name": "stdout",
     "output_type": "stream",
     "text": [
      "Enter up to 10 numbers. Enter a negative number to stop.\n"
     ]
    },
    {
     "name": "stdin",
     "output_type": "stream",
     "text": [
      "Enter number:  2\n",
      "Enter number:  3\n",
      "Enter number:  -1\n"
     ]
    },
    {
     "name": "stdout",
     "output_type": "stream",
     "text": [
      "Sum of the numbers: 5.0\n"
     ]
    }
   ],
   "source": [
    "#1.WAP to calculate the sum of numbers (10 numbers max),If the user enters a\n",
    "#negative number, the loop terminates.\n",
    "def sum():\n",
    "    numbers = []\n",
    "    sum_of_numbers = 0\n",
    "\n",
    "    print(\"Enter up to 10 numbers. Enter a negative number to stop.\")\n",
    "\n",
    "    while len(numbers) < 10:\n",
    "        num = float(input(\"Enter number: \"))\n",
    "        if num < 0:\n",
    "            break\n",
    "        numbers.append(num)\n",
    "        sum_of_numbers += num\n",
    "\n",
    "    print(\"Sum of the numbers:\", sum_of_numbers)\n",
    "\n",
    "sum()"
   ]
  },
  {
   "cell_type": "code",
   "execution_count": 12,
   "id": "a96018c3-9f5e-4395-9e98-e39fb4d7c870",
   "metadata": {},
   "outputs": [
    {
     "name": "stdout",
     "output_type": "stream",
     "text": [
      "Enter up to 10 numbers. Negative numbers will be ignored.\n"
     ]
    },
    {
     "name": "stdin",
     "output_type": "stream",
     "text": [
      "Enter number:  2\n",
      "Enter number:  3\n",
      "Enter number:  4\n",
      "Enter number:  5\n",
      "Enter number:  6\n",
      "Enter number:  1\n",
      "Enter number:  1\n",
      "Enter number:  1\n",
      "Enter number:  1\n",
      "Enter number:  1\n"
     ]
    },
    {
     "name": "stdout",
     "output_type": "stream",
     "text": [
      "Sum of the non-negative numbers: 25.0\n"
     ]
    }
   ],
   "source": [
    "#2.WAP to calculate the sum of numbers (10 numbers max),If the user enters a\n",
    "#negative number, it is not added to the result.\n",
    "def main():\n",
    "    sum_of_numbers = 0\n",
    "\n",
    "    print(\"Enter up to 10 numbers. Negative numbers will be ignored.\")\n",
    "\n",
    "    for i in range(10):\n",
    "        num = float(input(\"Enter number: \"))\n",
    "        if num < 0:\n",
    "            continue  \n",
    "        sum_of_numbers += num\n",
    "\n",
    "    print(\"Sum of the non-negative numbers:\", sum_of_numbers)\n",
    "main()\n",
    "\n"
   ]
  },
  {
   "cell_type": "code",
   "execution_count": 14,
   "id": "9ab2c7a3-40c9-4adb-9c14-4ef5d6b3724e",
   "metadata": {},
   "outputs": [
    {
     "name": "stdin",
     "output_type": "stream",
     "text": [
      "Enter the start of the range:  1\n",
      "Enter the end of the range:  5\n"
     ]
    },
    {
     "name": "stdout",
     "output_type": "stream",
     "text": [
      "Numbers within the range (1, 5) except prime numbers:\n",
      "1 4 "
     ]
    }
   ],
   "source": [
    "#3.Python program to display all numbers within a range except the prime numbers.\n",
    "def is_prime(num):\n",
    "    if num <= 1:\n",
    "        return False\n",
    "    for i in range(2, int(num ** 0.5) + 1):\n",
    "        if num % i == 0:\n",
    "            return False\n",
    "    return True\n",
    "\n",
    "def display_non_primes(start, end):\n",
    "    for num in range(start, end + 1):\n",
    "        if not is_prime(num):\n",
    "            print(num, end=\" \")\n",
    "\n",
    "start = int(input(\"Enter the start of the range: \"))\n",
    "end = int(input(\"Enter the end of the range: \"))\n",
    "\n",
    "print(\"Numbers within the range ({}, {}) except prime numbers:\".format(start, end))\n",
    "display_non_primes(start, end)\n"
   ]
  },
  {
   "cell_type": "code",
   "execution_count": 15,
   "id": "bbb01d7e-c05d-4299-9526-5721942a7f30",
   "metadata": {},
   "outputs": [
    {
     "name": "stdout",
     "output_type": "stream",
     "text": [
      "Common elements in the lists: [3, 4, 5]\n"
     ]
    }
   ],
   "source": [
    "#4.Find the common elements in two lists using a for loop\n",
    "def find_common_elements(list1, list2):\n",
    "    common_elements = []\n",
    "    for item in list1:\n",
    "        if item in list2 and item not in common_elements:\n",
    "            common_elements.append(item)\n",
    "    return common_elements\n",
    "\n",
    "list1 = [1, 2, 3, 4, 5]\n",
    "list2 = [3, 4, 5, 6, 7]\n",
    "common_elements = find_common_elements(list1, list2)\n",
    "print(\"Common elements in the lists:\", common_elements)\n"
   ]
  },
  {
   "cell_type": "code",
   "execution_count": 16,
   "id": "ea43a6ea-7136-4a5e-9e52-99d38a92a443",
   "metadata": {},
   "outputs": [
    {
     "name": "stdout",
     "output_type": "stream",
     "text": [
      "1\n",
      "2\n",
      "3\n",
      "4\n",
      "Number 4 is divisible by 4. Stopping the loop.\n"
     ]
    }
   ],
   "source": [
    "#5.Print numbers from 1 to 10. If a number is divisible by 4, stop the loop using\n",
    "#a for loop and break statement.\n",
    "for num in range(1, 11):\n",
    "    print(num)\n",
    "    if num % 4 == 0:\n",
    "        print(\"Number\", num, \"is divisible by 4. Stopping the loop.\")\n",
    "        break\n"
   ]
  },
  {
   "cell_type": "code",
   "execution_count": 17,
   "id": "58ef1466-2807-4fc8-a8b6-4a292534d3fc",
   "metadata": {},
   "outputs": [
    {
     "name": "stdout",
     "output_type": "stream",
     "text": [
      "Original list: [1, 2, 2, 3, 4, 4, 5, 6, 6]\n",
      "List with distinct elements: [1, 2, 3, 4, 5, 6]\n"
     ]
    }
   ],
   "source": [
    "#6.Write a Python function that takes a list and returns a new list with distinct elements\n",
    "#from the first list.\n",
    "def get_distinct_elements(input_list):\n",
    "    unique_elements_set = set(input_list)\n",
    "    distinct_elements_list = list(unique_elements_set)\n",
    "    return distinct_elements_list\n",
    "\n",
    "input_list = [1, 2, 2, 3, 4, 4, 5, 6, 6]\n",
    "distinct_elements = get_distinct_elements(input_list)\n",
    "print(\"Original list:\", input_list)\n",
    "print(\"List with distinct elements:\", distinct_elements)\n"
   ]
  },
  {
   "cell_type": "code",
   "execution_count": 18,
   "id": "aeb8e318-e10f-45d2-a219-981b2b3d1eb3",
   "metadata": {},
   "outputs": [
    {
     "name": "stdin",
     "output_type": "stream",
     "text": [
      "Enter a number to check if it's perfect:  3\n"
     ]
    },
    {
     "name": "stdout",
     "output_type": "stream",
     "text": [
      "3 is not a perfect number.\n"
     ]
    }
   ],
   "source": [
    "#7.Write a Python function to check whether a number is Perfect or not.\n",
    "def is_perfect_number(num):\n",
    "    if num <= 0:\n",
    "        return False\n",
    "    \n",
    "    divisor_sum = 0\n",
    "    for i in range(1, num):\n",
    "        if num % i == 0:\n",
    "            divisor_sum += i\n",
    "    \n",
    "    return divisor_sum == num\n",
    "\n",
    "number = int(input(\"Enter a number to check if it's perfect: \"))\n",
    "if is_perfect_number(number):\n",
    "    print(number, \"is a perfect number.\")\n",
    "else:\n",
    "    print(number, \"is not a perfect number.\")\n"
   ]
  },
  {
   "cell_type": "code",
   "execution_count": 21,
   "id": "682a6079-c8a4-4d11-8b73-6f1c1919420e",
   "metadata": {},
   "outputs": [
    {
     "name": "stdin",
     "output_type": "stream",
     "text": [
      "Enter a number to find its prime factors:  42\n"
     ]
    },
    {
     "name": "stdout",
     "output_type": "stream",
     "text": [
      "Prime factors of 42 are: [2, 3, 7]\n"
     ]
    }
   ],
   "source": [
    "#8.Write a program to find out the prime factors of a number Using Function.\n",
    "def find_prime_factors(number):\n",
    "    prime_factors = []\n",
    "    divisor = 2\n",
    "\n",
    "    while number > 1:\n",
    "        while number % divisor == 0:\n",
    "            prime_factors.append(divisor)\n",
    "            number //= divisor\n",
    "        divisor += 1\n",
    "\n",
    "    return prime_factors\n",
    "    \n",
    "number = int(input(\"Enter a number to find its prime factors: \"))\n",
    "if number < 2:\n",
    "    print(\"Prime factors are not applicable for numbers less than 2.\")\n",
    "else:\n",
    "    factors = find_prime_factors(number)\n",
    "    print(\"Prime factors of\", number, \"are:\", factors)\n"
   ]
  },
  {
   "cell_type": "code",
   "execution_count": 2,
   "id": "de8b6dee-8cb0-4680-aa3f-448c91f0cd73",
   "metadata": {},
   "outputs": [
    {
     "name": "stdin",
     "output_type": "stream",
     "text": [
      "Enter a decimal number:  4\n"
     ]
    },
    {
     "name": "stdout",
     "output_type": "stream",
     "text": [
      "Binary representation: 0b100\n"
     ]
    },
    {
     "name": "stdin",
     "output_type": "stream",
     "text": [
      "Enter a decimal number:  4\n"
     ]
    },
    {
     "name": "stdout",
     "output_type": "stream",
     "text": [
      "Binary representation: 0b100\n"
     ]
    }
   ],
   "source": [
    "#9.Write a function that converts a decimal number to binary number\n",
    "def decimal_to_binary(decimal):\n",
    "    \n",
    "    binary = bin(decimal)\n",
    "    return binary\n",
    "decimal_number = int(input(\"Enter a decimal number: \"))\n",
    "binary_number = decimal_to_binary(decimal_number)\n",
    "print(\"Binary representation:\", binary_number)\n",
    "\n",
    "\n",
    "decimal_number = int(input(\"Enter a decimal number: \"))\n",
    "binary_number = decimal_to_binary(decimal_number)\n",
    "print(\"Binary representation:\", binary_number)\n"
   ]
  },
  {
   "cell_type": "code",
   "execution_count": null,
   "id": "e90345c8-a20f-4a5e-a60a-98e9b4536078",
   "metadata": {},
   "outputs": [],
   "source": []
  },
  {
   "cell_type": "code",
   "execution_count": 25,
   "id": "46ed0726-dc2f-4d07-bd28-a306b31ceffc",
   "metadata": {},
   "outputs": [
    {
     "name": "stdin",
     "output_type": "stream",
     "text": [
      "Enter an integer:  45\n"
     ]
    },
    {
     "name": "stdout",
     "output_type": "stream",
     "text": [
      "Sum of the cubes of individual digits: 189\n"
     ]
    }
   ],
   "source": [
    "#10.Write a function cubesum() that accepts an integer and returns the sum of the cubes\n",
    "#of individual digits of that numberdef cubesum(number):\n",
    "def cubesum(number):\n",
    "    digits = str(number)\n",
    "   \n",
    "    sum_of_cubes = 0\n",
    "  \n",
    "    for digit in digits:\n",
    "        \n",
    "        sum_of_cubes += int(digit) ** 3\n",
    "   \n",
    "    return sum_of_cubes\n",
    "\n",
    "number = int(input(\"Enter an integer: \"))\n",
    "result = cubesum(number)\n",
    "print(\"Sum of the cubes of individual digits:\", result)\n",
    "\n"
   ]
  },
  {
   "cell_type": "code",
   "execution_count": 26,
   "id": "b9ba204f-d037-41c7-ab31-b40fac26bd28",
   "metadata": {},
   "outputs": [
    {
     "name": "stdin",
     "output_type": "stream",
     "text": [
      "Enter a number to find the sum of its proper divisors:  6\n"
     ]
    },
    {
     "name": "stdout",
     "output_type": "stream",
     "text": [
      "Sum of proper divisors of 6 is: 6\n"
     ]
    }
   ],
   "source": [
    "#11.Write a function sumPdivisors() that finds the sum of proper divisors of a number.\n",
    "#Proper divisors of a number are those numbers by which the number is divisible,\n",
    "#except the number itself.\n",
    "def sumPdivisors(number):\n",
    "    \n",
    "    sum_divisors = 0\n",
    "    for divisor in range(1, number):\n",
    "        \n",
    "        if number % divisor == 0:\n",
    "            sum_divisors += divisor\n",
    "\n",
    "    return sum_divisors\n",
    "number = int(input(\"Enter a number to find the sum of its proper divisors: \"))\n",
    "result = sumPdivisors(number)\n",
    "print(\"Sum of proper divisors of\", number, \"is:\", result)\n"
   ]
  },
  {
   "cell_type": "code",
   "execution_count": 1,
   "id": "9226890a-4f60-4bdf-ba83-582cce29dc72",
   "metadata": {},
   "outputs": [
    {
     "name": "stdout",
     "output_type": "stream",
     "text": [
      "12 x 1 = 12\n",
      "12 x 2 = 24\n",
      "12 x 3 = 36\n",
      "12 x 4 = 48\n",
      "12 x 5 = 60\n",
      "12 x 6 = 72\n",
      "12 x 7 = 84\n",
      "12 x 8 = 96\n",
      "12 x 9 = 108\n",
      "12 x 10 = 120\n"
     ]
    }
   ],
   "source": [
    "#12.Print multiplication table of 12 using recursion.\n",
    "def print_multiplication_table(n, times):\n",
    "    if times > 10:\n",
    "        return\n",
    "    print(n, \"x\", times, \"=\", n * times)\n",
    "    print_multiplication_table(n, times + 1)\n",
    "print_multiplication_table(12, 1)\n",
    "\n"
   ]
  },
  {
   "cell_type": "code",
   "execution_count": 3,
   "id": "fa763e05-c97e-4df5-a894-1d29e5a0050f",
   "metadata": {},
   "outputs": [
    {
     "name": "stdout",
     "output_type": "stream",
     "text": [
      "2 raised to the power of 3 is: 8\n"
     ]
    }
   ],
   "source": [
    "#13.Write a function to calculate power of a number raised to other ( a b ) using\n",
    "#recursion.\n",
    "def power(base, exponent):\n",
    "   \n",
    "    if exponent == 0:\n",
    "        return 1\n",
    "   \n",
    "    elif exponent < 0:\n",
    "        return 1 / power(base, -exponent)\n",
    "    # Base case: if the exponent is 1, return the base\n",
    "    elif exponent == 1:\n",
    "        return base\n",
    "    else:\n",
    "        return base * power(base, exponent - 1)\n",
    "\n",
    "base = 2\n",
    "exponent = 3\n",
    "result = power(base, exponent)\n",
    "print(f\"{base} raised to the power of {exponent} is: {result}\")\n"
   ]
  },
  {
   "cell_type": "code",
   "execution_count": 1,
   "id": "1f1d7b0f-6bf9-4876-bf2c-c8cbf2041769",
   "metadata": {},
   "outputs": [
    {
     "name": "stdout",
     "output_type": "stream",
     "text": [
      "Perfect numbers between 1 and 1000:\n",
      "[6, 28, 496]\n"
     ]
    }
   ],
   "source": [
    "#14.Write a function “perfect()” that determines if parameter number is a perfect\n",
    "#number. Use this function in a program that determines and prints all the perfect\n",
    "#numbers between 1 and 1000.\n",
    "def perfect(num):\n",
    "    sum_of_divisors = 0\n",
    "    for i in range(1, num):\n",
    "        if num % i == 0:\n",
    "            sum_of_divisors += i\n",
    "    return sum_of_divisors == num\n",
    "\n",
    "def find_perfect_numbers():\n",
    "    perfect_numbers = []\n",
    "    for num in range(1, 1001):\n",
    "        if perfect(num):\n",
    "            perfect_numbers.append(num)\n",
    "    return perfect_numbers\n",
    "\n",
    "perfect_numbers = find_perfect_numbers()\n",
    "print(\"Perfect numbers between 1 and 1000:\")\n",
    "print(perfect_numbers)\n"
   ]
  }
 ],
 "metadata": {
  "kernelspec": {
   "display_name": "Python 3 (ipykernel)",
   "language": "python",
   "name": "python3"
  },
  "language_info": {
   "codemirror_mode": {
    "name": "ipython",
    "version": 3
   },
   "file_extension": ".py",
   "mimetype": "text/x-python",
   "name": "python",
   "nbconvert_exporter": "python",
   "pygments_lexer": "ipython3",
   "version": "3.12.1"
  }
 },
 "nbformat": 4,
 "nbformat_minor": 5
}
